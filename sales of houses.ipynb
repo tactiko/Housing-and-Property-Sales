{
 "cells": [
  {
   "cell_type": "code",
   "execution_count": 4,
   "id": "03ca0107",
   "metadata": {},
   "outputs": [],
   "source": [
    "import pandas as pd\n",
    "import numpy as np\n",
    "import matplotlib.pyplot as plt\n",
    "%matplotlib inline"
   ]
  },
  {
   "cell_type": "code",
   "execution_count": 8,
   "id": "2f7ff677",
   "metadata": {},
   "outputs": [],
   "source": [
    "sales = pd.read_csv('House+Sales.csv')"
   ]
  },
  {
   "cell_type": "code",
   "execution_count": 9,
   "id": "569ac41e",
   "metadata": {},
   "outputs": [
    {
     "data": {
      "text/html": [
       "<div>\n",
       "<style scoped>\n",
       "    .dataframe tbody tr th:only-of-type {\n",
       "        vertical-align: middle;\n",
       "    }\n",
       "\n",
       "    .dataframe tbody tr th {\n",
       "        vertical-align: top;\n",
       "    }\n",
       "\n",
       "    .dataframe thead th {\n",
       "        text-align: right;\n",
       "    }\n",
       "</style>\n",
       "<table border=\"1\" class=\"dataframe\">\n",
       "  <thead>\n",
       "    <tr style=\"text-align: right;\">\n",
       "      <th></th>\n",
       "      <th>Datesold</th>\n",
       "      <th>Postcode</th>\n",
       "      <th>Price</th>\n",
       "      <th>Property Type</th>\n",
       "      <th>Bedrooms</th>\n",
       "      <th>Year</th>\n",
       "    </tr>\n",
       "  </thead>\n",
       "  <tbody>\n",
       "    <tr>\n",
       "      <th>0</th>\n",
       "      <td>07/02/2007 00:00</td>\n",
       "      <td>2607</td>\n",
       "      <td>525000</td>\n",
       "      <td>house</td>\n",
       "      <td>4</td>\n",
       "      <td>2007</td>\n",
       "    </tr>\n",
       "    <tr>\n",
       "      <th>1</th>\n",
       "      <td>27/02/2007 00:00</td>\n",
       "      <td>2906</td>\n",
       "      <td>290000</td>\n",
       "      <td>house</td>\n",
       "      <td>3</td>\n",
       "      <td>2007</td>\n",
       "    </tr>\n",
       "    <tr>\n",
       "      <th>2</th>\n",
       "      <td>07/03/2007 00:00</td>\n",
       "      <td>2905</td>\n",
       "      <td>328000</td>\n",
       "      <td>house</td>\n",
       "      <td>3</td>\n",
       "      <td>2007</td>\n",
       "    </tr>\n",
       "    <tr>\n",
       "      <th>3</th>\n",
       "      <td>09/03/2007 00:00</td>\n",
       "      <td>2905</td>\n",
       "      <td>380000</td>\n",
       "      <td>house</td>\n",
       "      <td>4</td>\n",
       "      <td>2007</td>\n",
       "    </tr>\n",
       "    <tr>\n",
       "      <th>4</th>\n",
       "      <td>21/03/2007 00:00</td>\n",
       "      <td>2906</td>\n",
       "      <td>310000</td>\n",
       "      <td>house</td>\n",
       "      <td>3</td>\n",
       "      <td>2007</td>\n",
       "    </tr>\n",
       "    <tr>\n",
       "      <th>...</th>\n",
       "      <td>...</td>\n",
       "      <td>...</td>\n",
       "      <td>...</td>\n",
       "      <td>...</td>\n",
       "      <td>...</td>\n",
       "      <td>...</td>\n",
       "    </tr>\n",
       "    <tr>\n",
       "      <th>28190</th>\n",
       "      <td>21/12/2018 00:00</td>\n",
       "      <td>2612</td>\n",
       "      <td>580000</td>\n",
       "      <td>unit</td>\n",
       "      <td>2</td>\n",
       "      <td>2018</td>\n",
       "    </tr>\n",
       "    <tr>\n",
       "      <th>28191</th>\n",
       "      <td>22/12/2018 00:00</td>\n",
       "      <td>2602</td>\n",
       "      <td>750000</td>\n",
       "      <td>house</td>\n",
       "      <td>3</td>\n",
       "      <td>2018</td>\n",
       "    </tr>\n",
       "    <tr>\n",
       "      <th>28192</th>\n",
       "      <td>24/12/2018 00:00</td>\n",
       "      <td>2914</td>\n",
       "      <td>640000</td>\n",
       "      <td>house</td>\n",
       "      <td>4</td>\n",
       "      <td>2018</td>\n",
       "    </tr>\n",
       "    <tr>\n",
       "      <th>28193</th>\n",
       "      <td>24/12/2018 00:00</td>\n",
       "      <td>2602</td>\n",
       "      <td>780000</td>\n",
       "      <td>house</td>\n",
       "      <td>3</td>\n",
       "      <td>2018</td>\n",
       "    </tr>\n",
       "    <tr>\n",
       "      <th>28194</th>\n",
       "      <td>24/12/2018 00:00</td>\n",
       "      <td>2603</td>\n",
       "      <td>1410000</td>\n",
       "      <td>house</td>\n",
       "      <td>4</td>\n",
       "      <td>2018</td>\n",
       "    </tr>\n",
       "  </tbody>\n",
       "</table>\n",
       "<p>28195 rows × 6 columns</p>\n",
       "</div>"
      ],
      "text/plain": [
       "               Datesold  Postcode    Price Property Type  Bedrooms  Year\n",
       "0      07/02/2007 00:00      2607   525000         house         4  2007\n",
       "1      27/02/2007 00:00      2906   290000         house         3  2007\n",
       "2      07/03/2007 00:00      2905   328000         house         3  2007\n",
       "3      09/03/2007 00:00      2905   380000         house         4  2007\n",
       "4      21/03/2007 00:00      2906   310000         house         3  2007\n",
       "...                 ...       ...      ...           ...       ...   ...\n",
       "28190  21/12/2018 00:00      2612   580000          unit         2  2018\n",
       "28191  22/12/2018 00:00      2602   750000         house         3  2018\n",
       "28192  24/12/2018 00:00      2914   640000         house         4  2018\n",
       "28193  24/12/2018 00:00      2602   780000         house         3  2018\n",
       "28194  24/12/2018 00:00      2603  1410000         house         4  2018\n",
       "\n",
       "[28195 rows x 6 columns]"
      ]
     },
     "execution_count": 9,
     "metadata": {},
     "output_type": "execute_result"
    }
   ],
   "source": [
    "sales"
   ]
  },
  {
   "cell_type": "code",
   "execution_count": 10,
   "id": "919433ac",
   "metadata": {},
   "outputs": [
    {
     "data": {
      "text/plain": [
       "Datesold         28195\n",
       "Postcode         28195\n",
       "Price            28195\n",
       "Property Type    28195\n",
       "Bedrooms         28195\n",
       "Year             28195\n",
       "dtype: int64"
      ]
     },
     "execution_count": 10,
     "metadata": {},
     "output_type": "execute_result"
    }
   ],
   "source": [
    "# find the how many houses and properties are sold \n",
    "sales.count()"
   ]
  },
  {
   "cell_type": "code",
   "execution_count": 12,
   "id": "c4aada1d",
   "metadata": {},
   "outputs": [
    {
     "data": {
      "text/plain": [
       "608535.3251640361"
      ]
     },
     "execution_count": 12,
     "metadata": {},
     "output_type": "execute_result"
    }
   ],
   "source": [
    "# calculate the average house price\n",
    "sales['Price'].mean()"
   ]
  },
  {
   "cell_type": "code",
   "execution_count": 13,
   "id": "203b528c",
   "metadata": {},
   "outputs": [
    {
     "data": {
      "text/plain": [
       "8000000"
      ]
     },
     "execution_count": 13,
     "metadata": {},
     "output_type": "execute_result"
    }
   ],
   "source": [
    "# find the highest sales\n",
    "sales['Price'].max()"
   ]
  },
  {
   "cell_type": "code",
   "execution_count": 14,
   "id": "e4bcd422",
   "metadata": {},
   "outputs": [
    {
     "data": {
      "text/html": [
       "<div>\n",
       "<style scoped>\n",
       "    .dataframe tbody tr th:only-of-type {\n",
       "        vertical-align: middle;\n",
       "    }\n",
       "\n",
       "    .dataframe tbody tr th {\n",
       "        vertical-align: top;\n",
       "    }\n",
       "\n",
       "    .dataframe thead th {\n",
       "        text-align: right;\n",
       "    }\n",
       "</style>\n",
       "<table border=\"1\" class=\"dataframe\">\n",
       "  <thead>\n",
       "    <tr style=\"text-align: right;\">\n",
       "      <th></th>\n",
       "      <th>Datesold</th>\n",
       "      <th>Postcode</th>\n",
       "      <th>Price</th>\n",
       "      <th>Property Type</th>\n",
       "      <th>Bedrooms</th>\n",
       "      <th>Year</th>\n",
       "    </tr>\n",
       "  </thead>\n",
       "  <tbody>\n",
       "    <tr>\n",
       "      <th>15186</th>\n",
       "      <td>02/11/2015 00:00</td>\n",
       "      <td>2611</td>\n",
       "      <td>8000000</td>\n",
       "      <td>house</td>\n",
       "      <td>4</td>\n",
       "      <td>2015</td>\n",
       "    </tr>\n",
       "  </tbody>\n",
       "</table>\n",
       "</div>"
      ],
      "text/plain": [
       "               Datesold  Postcode    Price Property Type  Bedrooms  Year\n",
       "15186  02/11/2015 00:00      2611  8000000         house         4  2015"
      ]
     },
     "execution_count": 14,
     "metadata": {},
     "output_type": "execute_result"
    }
   ],
   "source": [
    "sales[sales['Price'].max()==sales['Price']]"
   ]
  },
  {
   "cell_type": "code",
   "execution_count": 16,
   "id": "585deb72",
   "metadata": {},
   "outputs": [],
   "source": [
    "# Group the dataset by years , bedrooms and prperty type\n",
    "sales_y = sales.groupby('Year')\n",
    "sales_b = sales.groupby('Bedrooms')\n",
    "sales_t = sales.groupby('Property Type')"
   ]
  },
  {
   "cell_type": "code",
   "execution_count": 20,
   "id": "49faa231",
   "metadata": {},
   "outputs": [
    {
     "data": {
      "text/html": [
       "<div>\n",
       "<style scoped>\n",
       "    .dataframe tbody tr th:only-of-type {\n",
       "        vertical-align: middle;\n",
       "    }\n",
       "\n",
       "    .dataframe tbody tr th {\n",
       "        vertical-align: top;\n",
       "    }\n",
       "\n",
       "    .dataframe thead th {\n",
       "        text-align: right;\n",
       "    }\n",
       "</style>\n",
       "<table border=\"1\" class=\"dataframe\">\n",
       "  <thead>\n",
       "    <tr style=\"text-align: right;\">\n",
       "      <th></th>\n",
       "      <th>Datesold</th>\n",
       "      <th>Postcode</th>\n",
       "      <th>Price</th>\n",
       "      <th>Property Type</th>\n",
       "      <th>Bedrooms</th>\n",
       "      <th>Year</th>\n",
       "    </tr>\n",
       "  </thead>\n",
       "  <tbody>\n",
       "    <tr>\n",
       "      <th>0</th>\n",
       "      <td>07/02/2007 00:00</td>\n",
       "      <td>2607</td>\n",
       "      <td>525000</td>\n",
       "      <td>house</td>\n",
       "      <td>4</td>\n",
       "      <td>2007</td>\n",
       "    </tr>\n",
       "    <tr>\n",
       "      <th>1</th>\n",
       "      <td>27/02/2007 00:00</td>\n",
       "      <td>2906</td>\n",
       "      <td>290000</td>\n",
       "      <td>house</td>\n",
       "      <td>3</td>\n",
       "      <td>2007</td>\n",
       "    </tr>\n",
       "    <tr>\n",
       "      <th>2</th>\n",
       "      <td>07/03/2007 00:00</td>\n",
       "      <td>2905</td>\n",
       "      <td>328000</td>\n",
       "      <td>house</td>\n",
       "      <td>3</td>\n",
       "      <td>2007</td>\n",
       "    </tr>\n",
       "    <tr>\n",
       "      <th>3</th>\n",
       "      <td>09/03/2007 00:00</td>\n",
       "      <td>2905</td>\n",
       "      <td>380000</td>\n",
       "      <td>house</td>\n",
       "      <td>4</td>\n",
       "      <td>2007</td>\n",
       "    </tr>\n",
       "    <tr>\n",
       "      <th>4</th>\n",
       "      <td>21/03/2007 00:00</td>\n",
       "      <td>2906</td>\n",
       "      <td>310000</td>\n",
       "      <td>house</td>\n",
       "      <td>3</td>\n",
       "      <td>2007</td>\n",
       "    </tr>\n",
       "    <tr>\n",
       "      <th>...</th>\n",
       "      <td>...</td>\n",
       "      <td>...</td>\n",
       "      <td>...</td>\n",
       "      <td>...</td>\n",
       "      <td>...</td>\n",
       "      <td>...</td>\n",
       "    </tr>\n",
       "    <tr>\n",
       "      <th>28185</th>\n",
       "      <td>21/12/2018 00:00</td>\n",
       "      <td>2602</td>\n",
       "      <td>910000</td>\n",
       "      <td>house</td>\n",
       "      <td>4</td>\n",
       "      <td>2018</td>\n",
       "    </tr>\n",
       "    <tr>\n",
       "      <th>28191</th>\n",
       "      <td>22/12/2018 00:00</td>\n",
       "      <td>2602</td>\n",
       "      <td>750000</td>\n",
       "      <td>house</td>\n",
       "      <td>3</td>\n",
       "      <td>2018</td>\n",
       "    </tr>\n",
       "    <tr>\n",
       "      <th>28192</th>\n",
       "      <td>24/12/2018 00:00</td>\n",
       "      <td>2914</td>\n",
       "      <td>640000</td>\n",
       "      <td>house</td>\n",
       "      <td>4</td>\n",
       "      <td>2018</td>\n",
       "    </tr>\n",
       "    <tr>\n",
       "      <th>28193</th>\n",
       "      <td>24/12/2018 00:00</td>\n",
       "      <td>2602</td>\n",
       "      <td>780000</td>\n",
       "      <td>house</td>\n",
       "      <td>3</td>\n",
       "      <td>2018</td>\n",
       "    </tr>\n",
       "    <tr>\n",
       "      <th>28194</th>\n",
       "      <td>24/12/2018 00:00</td>\n",
       "      <td>2603</td>\n",
       "      <td>1410000</td>\n",
       "      <td>house</td>\n",
       "      <td>4</td>\n",
       "      <td>2018</td>\n",
       "    </tr>\n",
       "  </tbody>\n",
       "</table>\n",
       "<p>23530 rows × 6 columns</p>\n",
       "</div>"
      ],
      "text/plain": [
       "               Datesold  Postcode    Price Property Type  Bedrooms  Year\n",
       "0      07/02/2007 00:00      2607   525000         house         4  2007\n",
       "1      27/02/2007 00:00      2906   290000         house         3  2007\n",
       "2      07/03/2007 00:00      2905   328000         house         3  2007\n",
       "3      09/03/2007 00:00      2905   380000         house         4  2007\n",
       "4      21/03/2007 00:00      2906   310000         house         3  2007\n",
       "...                 ...       ...      ...           ...       ...   ...\n",
       "28185  21/12/2018 00:00      2602   910000         house         4  2018\n",
       "28191  22/12/2018 00:00      2602   750000         house         3  2018\n",
       "28192  24/12/2018 00:00      2914   640000         house         4  2018\n",
       "28193  24/12/2018 00:00      2602   780000         house         3  2018\n",
       "28194  24/12/2018 00:00      2603  1410000         house         4  2018\n",
       "\n",
       "[23530 rows x 6 columns]"
      ]
     },
     "execution_count": 20,
     "metadata": {},
     "output_type": "execute_result"
    }
   ],
   "source": [
    "# find the cheapest house sale in 2010\n",
    "house = sales_t.get_group('house')\n",
    "house"
   ]
  },
  {
   "cell_type": "code",
   "execution_count": 28,
   "id": "81afb55a",
   "metadata": {},
   "outputs": [],
   "source": [
    "h_2010 = house_year.get_group(2010)"
   ]
  },
  {
   "cell_type": "code",
   "execution_count": 29,
   "id": "48d6a9c7",
   "metadata": {
    "scrolled": true
   },
   "outputs": [
    {
     "data": {
      "text/plain": [
       "110000"
      ]
     },
     "execution_count": 29,
     "metadata": {},
     "output_type": "execute_result"
    }
   ],
   "source": [
    "h_2010['Price'].min()"
   ]
  },
  {
   "cell_type": "code",
   "execution_count": 24,
   "id": "8b04f8a4",
   "metadata": {},
   "outputs": [],
   "source": [
    "# find the most expensive house sale in 2017\n",
    "house_year = house.groupby('Year')"
   ]
  },
  {
   "cell_type": "code",
   "execution_count": 26,
   "id": "b301659c",
   "metadata": {},
   "outputs": [],
   "source": [
    "h_2017 = house_year.get_group(2017)"
   ]
  },
  {
   "cell_type": "code",
   "execution_count": 27,
   "id": "ce1f642a",
   "metadata": {},
   "outputs": [
    {
     "data": {
      "text/plain": [
       "4700000"
      ]
     },
     "execution_count": 27,
     "metadata": {},
     "output_type": "execute_result"
    }
   ],
   "source": [
    "h_2017['Price'].max()"
   ]
  },
  {
   "cell_type": "code",
   "execution_count": 30,
   "id": "1f3d926d",
   "metadata": {},
   "outputs": [],
   "source": [
    "# find the most expensive house with 5 bedrooms\n",
    "house_bedrooms = house.groupby('Bedrooms')"
   ]
  },
  {
   "cell_type": "code",
   "execution_count": 31,
   "id": "83d22212",
   "metadata": {},
   "outputs": [],
   "source": [
    "bed_5 = house_bedrooms.get_group(5)"
   ]
  },
  {
   "cell_type": "code",
   "execution_count": 33,
   "id": "fc7677e4",
   "metadata": {},
   "outputs": [
    {
     "data": {
      "text/html": [
       "<div>\n",
       "<style scoped>\n",
       "    .dataframe tbody tr th:only-of-type {\n",
       "        vertical-align: middle;\n",
       "    }\n",
       "\n",
       "    .dataframe tbody tr th {\n",
       "        vertical-align: top;\n",
       "    }\n",
       "\n",
       "    .dataframe thead th {\n",
       "        text-align: right;\n",
       "    }\n",
       "</style>\n",
       "<table border=\"1\" class=\"dataframe\">\n",
       "  <thead>\n",
       "    <tr style=\"text-align: right;\">\n",
       "      <th></th>\n",
       "      <th>Datesold</th>\n",
       "      <th>Postcode</th>\n",
       "      <th>Price</th>\n",
       "      <th>Property Type</th>\n",
       "      <th>Bedrooms</th>\n",
       "      <th>Year</th>\n",
       "    </tr>\n",
       "  </thead>\n",
       "  <tbody>\n",
       "    <tr>\n",
       "      <th>2589</th>\n",
       "      <td>22/04/2010 00:00</td>\n",
       "      <td>2603</td>\n",
       "      <td>7300000</td>\n",
       "      <td>house</td>\n",
       "      <td>5</td>\n",
       "      <td>2010</td>\n",
       "    </tr>\n",
       "  </tbody>\n",
       "</table>\n",
       "</div>"
      ],
      "text/plain": [
       "              Datesold  Postcode    Price Property Type  Bedrooms  Year\n",
       "2589  22/04/2010 00:00      2603  7300000         house         5  2010"
      ]
     },
     "execution_count": 33,
     "metadata": {},
     "output_type": "execute_result"
    }
   ],
   "source": [
    "bed_5[bed_5['Price'].max()==bed_5['Price']]"
   ]
  },
  {
   "cell_type": "code",
   "execution_count": null,
   "id": "53cdb305",
   "metadata": {},
   "outputs": [],
   "source": [
    "# find the cheapest unit"
   ]
  },
  {
   "cell_type": "code",
   "execution_count": 34,
   "id": "f23539f5",
   "metadata": {},
   "outputs": [],
   "source": [
    "unit = sales_t.get_group('unit')"
   ]
  },
  {
   "cell_type": "code",
   "execution_count": 36,
   "id": "3eea6a3f",
   "metadata": {},
   "outputs": [
    {
     "data": {
      "text/html": [
       "<div>\n",
       "<style scoped>\n",
       "    .dataframe tbody tr th:only-of-type {\n",
       "        vertical-align: middle;\n",
       "    }\n",
       "\n",
       "    .dataframe tbody tr th {\n",
       "        vertical-align: top;\n",
       "    }\n",
       "\n",
       "    .dataframe thead th {\n",
       "        text-align: right;\n",
       "    }\n",
       "</style>\n",
       "<table border=\"1\" class=\"dataframe\">\n",
       "  <thead>\n",
       "    <tr style=\"text-align: right;\">\n",
       "      <th></th>\n",
       "      <th>Datesold</th>\n",
       "      <th>Postcode</th>\n",
       "      <th>Price</th>\n",
       "      <th>Property Type</th>\n",
       "      <th>Bedrooms</th>\n",
       "      <th>Year</th>\n",
       "    </tr>\n",
       "  </thead>\n",
       "  <tbody>\n",
       "    <tr>\n",
       "      <th>17498</th>\n",
       "      <td>03/06/2016 00:00</td>\n",
       "      <td>2607</td>\n",
       "      <td>2500000</td>\n",
       "      <td>unit</td>\n",
       "      <td>2</td>\n",
       "      <td>2016</td>\n",
       "    </tr>\n",
       "  </tbody>\n",
       "</table>\n",
       "</div>"
      ],
      "text/plain": [
       "               Datesold  Postcode    Price Property Type  Bedrooms  Year\n",
       "17498  03/06/2016 00:00      2607  2500000          unit         2  2016"
      ]
     },
     "execution_count": 36,
     "metadata": {},
     "output_type": "execute_result"
    }
   ],
   "source": [
    "unit[unit['Price'].max()==unit['Price']]"
   ]
  },
  {
   "cell_type": "code",
   "execution_count": 40,
   "id": "8c381b07",
   "metadata": {},
   "outputs": [],
   "source": [
    "# find the cheapest unit in 2008\n",
    "filter_unit = sales.groupby('Year').get_group(2008)['Price'].min()"
   ]
  },
  {
   "cell_type": "code",
   "execution_count": 41,
   "id": "970be45c",
   "metadata": {},
   "outputs": [
    {
     "data": {
      "text/plain": [
       "90000"
      ]
     },
     "execution_count": 41,
     "metadata": {},
     "output_type": "execute_result"
    }
   ],
   "source": [
    "filter_unit\n"
   ]
  },
  {
   "cell_type": "code",
   "execution_count": 43,
   "id": "6817311b",
   "metadata": {},
   "outputs": [
    {
     "name": "stderr",
     "output_type": "stream",
     "text": [
      "C:\\Users\\tacti\\AppData\\Local\\Temp/ipykernel_24736/2777455406.py:1: UserWarning: Boolean Series key will be reindexed to match DataFrame index.\n",
      "  sales.groupby('Property Type').get_group('unit')[filter_unit==sales['Price']]\n"
     ]
    },
    {
     "data": {
      "text/html": [
       "<div>\n",
       "<style scoped>\n",
       "    .dataframe tbody tr th:only-of-type {\n",
       "        vertical-align: middle;\n",
       "    }\n",
       "\n",
       "    .dataframe tbody tr th {\n",
       "        vertical-align: top;\n",
       "    }\n",
       "\n",
       "    .dataframe thead th {\n",
       "        text-align: right;\n",
       "    }\n",
       "</style>\n",
       "<table border=\"1\" class=\"dataframe\">\n",
       "  <thead>\n",
       "    <tr style=\"text-align: right;\">\n",
       "      <th></th>\n",
       "      <th>Datesold</th>\n",
       "      <th>Postcode</th>\n",
       "      <th>Price</th>\n",
       "      <th>Property Type</th>\n",
       "      <th>Bedrooms</th>\n",
       "      <th>Year</th>\n",
       "    </tr>\n",
       "  </thead>\n",
       "  <tbody>\n",
       "    <tr>\n",
       "      <th>493</th>\n",
       "      <td>21/10/2008 00:00</td>\n",
       "      <td>2612</td>\n",
       "      <td>90000</td>\n",
       "      <td>unit</td>\n",
       "      <td>0</td>\n",
       "      <td>2008</td>\n",
       "    </tr>\n",
       "  </tbody>\n",
       "</table>\n",
       "</div>"
      ],
      "text/plain": [
       "             Datesold  Postcode  Price Property Type  Bedrooms  Year\n",
       "493  21/10/2008 00:00      2612  90000          unit         0  2008"
      ]
     },
     "execution_count": 43,
     "metadata": {},
     "output_type": "execute_result"
    }
   ],
   "source": [
    "sales.groupby('Property Type').get_group('unit')[filter_unit==sales['Price']]"
   ]
  },
  {
   "cell_type": "code",
   "execution_count": 44,
   "id": "d6d05e65",
   "metadata": {},
   "outputs": [
    {
     "data": {
      "text/plain": [
       "661248.3653410928"
      ]
     },
     "execution_count": 44,
     "metadata": {},
     "output_type": "execute_result"
    }
   ],
   "source": [
    "# find the average house price in 2015\n",
    "sales.groupby('Property Type').get_group('house').groupby('Year').get_group(2015)['Price'].mean()"
   ]
  },
  {
   "cell_type": "code",
   "execution_count": 45,
   "id": "efbf4680",
   "metadata": {},
   "outputs": [
    {
     "data": {
      "text/plain": [
       "2185322379"
      ]
     },
     "execution_count": 45,
     "metadata": {},
     "output_type": "execute_result"
    }
   ],
   "source": [
    "# find the total amount of unit sales in 2016\n",
    "sales.groupby('Property Type').get_group('house').groupby('Year').get_group(2016)['Price'].sum()"
   ]
  },
  {
   "cell_type": "code",
   "execution_count": 49,
   "id": "9a13a327",
   "metadata": {},
   "outputs": [],
   "source": [
    "# Find the cheapest house sales at 2617\n",
    "filter_post = sales.groupby('Postcode').get_group(2617).groupby('Property Type').get_group('house')['Price'].min()"
   ]
  },
  {
   "cell_type": "code",
   "execution_count": 50,
   "id": "eab1f49d",
   "metadata": {},
   "outputs": [
    {
     "data": {
      "text/plain": [
       "240000"
      ]
     },
     "execution_count": 50,
     "metadata": {},
     "output_type": "execute_result"
    }
   ],
   "source": [
    "filter_post"
   ]
  },
  {
   "cell_type": "code",
   "execution_count": 51,
   "id": "76cdecb3",
   "metadata": {},
   "outputs": [],
   "source": [
    "house_group = sales.groupby('Property Type').get_group('house')"
   ]
  },
  {
   "cell_type": "code",
   "execution_count": 53,
   "id": "dc7be720",
   "metadata": {},
   "outputs": [
    {
     "name": "stderr",
     "output_type": "stream",
     "text": [
      "C:\\Users\\tacti\\AppData\\Local\\Temp/ipykernel_24736/3169132505.py:1: UserWarning: Boolean Series key will be reindexed to match DataFrame index.\n",
      "  house_group[filter_post == sales['Price']]\n"
     ]
    },
    {
     "data": {
      "text/html": [
       "<div>\n",
       "<style scoped>\n",
       "    .dataframe tbody tr th:only-of-type {\n",
       "        vertical-align: middle;\n",
       "    }\n",
       "\n",
       "    .dataframe tbody tr th {\n",
       "        vertical-align: top;\n",
       "    }\n",
       "\n",
       "    .dataframe thead th {\n",
       "        text-align: right;\n",
       "    }\n",
       "</style>\n",
       "<table border=\"1\" class=\"dataframe\">\n",
       "  <thead>\n",
       "    <tr style=\"text-align: right;\">\n",
       "      <th></th>\n",
       "      <th>Datesold</th>\n",
       "      <th>Postcode</th>\n",
       "      <th>Price</th>\n",
       "      <th>Property Type</th>\n",
       "      <th>Bedrooms</th>\n",
       "      <th>Year</th>\n",
       "    </tr>\n",
       "  </thead>\n",
       "  <tbody>\n",
       "    <tr>\n",
       "      <th>18279</th>\n",
       "      <td>30/08/2016 00:00</td>\n",
       "      <td>2617</td>\n",
       "      <td>240000</td>\n",
       "      <td>house</td>\n",
       "      <td>1</td>\n",
       "      <td>2016</td>\n",
       "    </tr>\n",
       "    <tr>\n",
       "      <th>23936</th>\n",
       "      <td>30/11/2017 00:00</td>\n",
       "      <td>2605</td>\n",
       "      <td>240000</td>\n",
       "      <td>house</td>\n",
       "      <td>1</td>\n",
       "      <td>2017</td>\n",
       "    </tr>\n",
       "  </tbody>\n",
       "</table>\n",
       "</div>"
      ],
      "text/plain": [
       "               Datesold  Postcode   Price Property Type  Bedrooms  Year\n",
       "18279  30/08/2016 00:00      2617  240000         house         1  2016\n",
       "23936  30/11/2017 00:00      2605  240000         house         1  2017"
      ]
     },
     "execution_count": 53,
     "metadata": {},
     "output_type": "execute_result"
    }
   ],
   "source": [
    "house_group[filter_post == sales['Price']]"
   ]
  },
  {
   "cell_type": "code",
   "execution_count": null,
   "id": "9cf06f6b",
   "metadata": {},
   "outputs": [],
   "source": [
    "# visualitation "
   ]
  },
  {
   "cell_type": "code",
   "execution_count": 54,
   "id": "4c98874c",
   "metadata": {},
   "outputs": [],
   "source": [
    "Labels = ['Zero','One','Two','Three','Four','Five']"
   ]
  },
  {
   "cell_type": "code",
   "execution_count": 55,
   "id": "fe2ea12a",
   "metadata": {},
   "outputs": [],
   "source": [
    "Bedroom = sales.groupby('Property Type').get_group('house').groupby('Bedrooms')"
   ]
  },
  {
   "cell_type": "code",
   "execution_count": 57,
   "id": "5721d899",
   "metadata": {},
   "outputs": [],
   "source": [
    "Counts = len(Bedroom.get_group(0)),len(Bedroom.get_group(1)),len(Bedroom.get_group(2)),len(Bedroom.get_group(3)),len(Bedroom.get_group(4)),len(Bedroom.get_group(5))"
   ]
  },
  {
   "cell_type": "code",
   "execution_count": 70,
   "id": "b135e27b",
   "metadata": {},
   "outputs": [
    {
     "data": {
      "image/png": "[encoded data removed]",
      "text/plain": [
       "<Figure size 432x288 with 1 Axes>"
      ]
     },
     "metadata": {},
     "output_type": "display_data"
    }
   ],
   "source": [
    "\n",
    "fig1, ax1 = plt.subplots()\n",
    "ax1.pie(Counts, labels=Labels, autopct='%1.1f%%', explode = [0.1,0.2,0.1,0.1,0.1,0.1])\n",
    "ax1.legend()\n",
    "plt.show()"
   ]
  },
  {
   "cell_type": "code",
   "execution_count": 61,
   "id": "daa59cdc",
   "metadata": {},
   "outputs": [
    {
     "data": {
      "image/png": "[encoded data removed]",
      "text/plain": [
       "<Figure size 1008x432 with 4 Axes>"
      ]
     },
     "metadata": {
      "needs_background": "light"
     },
     "output_type": "display_data"
    }
   ],
   "source": [
    "histogram = sales.hist(figsize=(14,6))"
   ]
  },
  {
   "cell_type": "code",
   "execution_count": null,
   "id": "a43b6734",
   "metadata": {},
   "outputs": [],
   "source": []
  }
 ],
 "metadata": {
  "kernelspec": {
   "display_name": "Python 3 (ipykernel)",
   "language": "python",
   "name": "python3"
  },
  "language_info": {
   "codemirror_mode": {
    "name": "ipython",
    "version": 3
   },
   "file_extension": ".py",
   "mimetype": "text/x-python",
   "name": "python",
   "nbconvert_exporter": "python",
   "pygments_lexer": "ipython3",
   "version": "3.9.7"
  }
 },
 "nbformat": 4,
 "nbformat_minor": 5
}
